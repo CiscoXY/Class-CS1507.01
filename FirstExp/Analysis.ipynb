{
 "cells": [
  {
   "cell_type": "code",
   "execution_count": 68,
   "metadata": {},
   "outputs": [],
   "source": [
    "import matplotlib as mpl\n",
    "import matplotlib.pyplot as plt\n",
    "import numpy as np\n",
    "import pandas as pd\n",
    "import statsmodels.formula.api as smf\n",
    "import seaborn as sns\n",
    "\n",
    "import json\n",
    "import re\n",
    "\n",
    "#*----------------------------------------------------------------\n",
    "mpl.rcParams['font.sans-serif'] = ['SimHei'] # *允许显示中文\n",
    "plt.rcParams['axes.unicode_minus']=False# *允许显示坐标轴负数\n",
    "#*----------------------------------------------------------------\n",
    "\n",
    "params = {'legend.fontsize': 7,}\n",
    "\n",
    "plt.rcParams.update(params)"
   ]
  },
  {
   "cell_type": "markdown",
   "metadata": {},
   "source": [
    "# 数据的读入"
   ]
  },
  {
   "cell_type": "code",
   "execution_count": 69,
   "metadata": {},
   "outputs": [],
   "source": [
    "file = open(\"data//OriginalData.json\" , 'r' , encoding='utf-8')\n",
    "original_data = json.load(file)\n",
    "file.close()"
   ]
  },
  {
   "cell_type": "code",
   "execution_count": 70,
   "metadata": {},
   "outputs": [
    {
     "name": "stdout",
     "output_type": "stream",
     "text": [
      "{'片名': '肖申克的救赎 The Shawshank Redemption', '导演': '弗兰克·德拉邦特', '编剧': ['弗兰克·德拉邦特', '斯蒂芬·金'], '主演': ['蒂姆·罗宾斯', '摩根·弗里曼', '鲍勃·冈顿', '威廉姆·赛德勒', '克兰西·布朗', '吉尔·贝罗斯', '马克·罗斯顿', '詹姆斯·惠特摩', '杰弗里·德曼', '拉里·布兰登伯格', '尼尔·吉恩托利', '布赖恩·利比', '大卫·普罗瓦尔', '约瑟夫·劳格诺', '祖德·塞克利拉', '保罗·麦克兰尼', '芮妮·布莱恩', '阿方索·弗里曼', 'V·J·福斯特', '弗兰克·梅德拉诺', '马克·迈尔斯', '尼尔·萨默斯', '耐德·巴拉米', '布赖恩·戴拉特', '唐·麦克马纳斯'], '类型': ['剧情', '犯罪'], '制片国家/地区': ['美国'], '语言': ['英语'], '上映日期': ['1994-09-10(多伦多电影节)', '1994-10-14(美国)'], '片长': ['142分钟'], '评分': '9.7', '评价人数': '2568415'}\n"
     ]
    },
    {
     "data": {
      "text/plain": [
       "250"
      ]
     },
     "execution_count": 70,
     "metadata": {},
     "output_type": "execute_result"
    }
   ],
   "source": [
    "print(original_data[0])\n",
    "len(original_data)"
   ]
  },
  {
   "cell_type": "markdown",
   "metadata": {},
   "source": [
    "# 数据清洗"
   ]
  },
  {
   "cell_type": "markdown",
   "metadata": {},
   "source": [
    "<font size = 4> 介于编剧和主演的多样性，并不能嵌入pandas进行数据分析，所以我们单把这两个数据拿出来，并根据剩下的数据进行归类</font>"
   ]
  },
  {
   "cell_type": "markdown",
   "metadata": {},
   "source": [
    "<font size = 3>首先，我们发现，评分和评价人数对每个影片是唯一的，所以我们将这两项数据先单独拿出来构建dataframe</font>\n",
    "<font size = 3>随后，对每个类型、国家、语言、上映时间还有片长做表格分类</font>"
   ]
  },
  {
   "cell_type": "code",
   "execution_count": 71,
   "metadata": {},
   "outputs": [],
   "source": [
    "df_judge = pd.DataFrame(columns=['排名' , '片名' , '评分' , '评价人数'])\n",
    "for index , film in enumerate(original_data):\n",
    "    df_judge.loc[index] = [index + 1 , film['片名'] , float(film['评分']) , int(film['评价人数'])]"
   ]
  },
  {
   "cell_type": "code",
   "execution_count": 72,
   "metadata": {},
   "outputs": [],
   "source": [
    "index = 0\n",
    "df_types = pd.DataFrame(columns = ['排名' , '片名' , '类型' ])\n",
    "for rank , film in enumerate(original_data):\n",
    "    for i in film['类型']:\n",
    "        df_types.loc[index] = [rank + 1 , film['片名'] , i]\n",
    "        index += 1"
   ]
  },
  {
   "cell_type": "code",
   "execution_count": 73,
   "metadata": {},
   "outputs": [],
   "source": [
    "index = 0\n",
    "df_countries = pd.DataFrame(columns = ['排名' , '片名' , '国家' ])\n",
    "for rank , film in enumerate(original_data):\n",
    "    for area in film['制片国家/地区']:\n",
    "        if '大陆' in area or '香港' in area or '台湾' in area:\n",
    "            area = '中国'\n",
    "        if '戛纳' in area:\n",
    "            area = '法国'\n",
    "        df_countries.loc[index] = [rank + 1 , film['片名'] , area]\n",
    "        index += 1"
   ]
  },
  {
   "cell_type": "code",
   "execution_count": 74,
   "metadata": {},
   "outputs": [],
   "source": [
    "index = 0\n",
    "df_languages = pd.DataFrame(columns = ['排名' , '片名' , '语言' ])\n",
    "for rank , film in enumerate(original_data):\n",
    "    for language in film['语言']:\n",
    "        df_languages.loc[index] = [rank + 1 , film['片名'] , language]\n",
    "        index += 1"
   ]
  },
  {
   "cell_type": "code",
   "execution_count": 75,
   "metadata": {},
   "outputs": [],
   "source": [
    "index = 0\n",
    "df_times = pd.DataFrame(columns = ['排名' , '片名' , '上映日期'])\n",
    "for rank , film in enumerate(original_data):\n",
    "    for time in film['上映日期']:\n",
    "        df_times.loc[index] = [rank + 1 , film['片名'] , time[0:4]]\n",
    "        index += 1"
   ]
  },
  {
   "cell_type": "code",
   "execution_count": 79,
   "metadata": {},
   "outputs": [],
   "source": [
    "index = 0\n",
    "df_lens = pd.DataFrame(columns = ['排名' , '片名' , '片长'])\n",
    "for rank , film in enumerate(original_data):\n",
    "    for lens in film['片长']:\n",
    "        df_lens.loc[index] = [rank + 1 , film['片名'] , re.findall('\\d+', lens)[0]]\n",
    "        index += 1\n",
    "        "
   ]
  },
  {
   "cell_type": "code",
   "execution_count": 77,
   "metadata": {},
   "outputs": [
    {
     "data": {
      "text/html": [
       "<div>\n",
       "<style scoped>\n",
       "    .dataframe tbody tr th:only-of-type {\n",
       "        vertical-align: middle;\n",
       "    }\n",
       "\n",
       "    .dataframe tbody tr th {\n",
       "        vertical-align: top;\n",
       "    }\n",
       "\n",
       "    .dataframe thead th {\n",
       "        text-align: right;\n",
       "    }\n",
       "</style>\n",
       "<table border=\"1\" class=\"dataframe\">\n",
       "  <thead>\n",
       "    <tr style=\"text-align: right;\">\n",
       "      <th></th>\n",
       "      <th>排名</th>\n",
       "      <th>片名</th>\n",
       "      <th>评分</th>\n",
       "      <th>评价人数</th>\n",
       "    </tr>\n",
       "  </thead>\n",
       "  <tbody>\n",
       "    <tr>\n",
       "      <th>0</th>\n",
       "      <td>1</td>\n",
       "      <td>肖申克的救赎 The Shawshank Redemption</td>\n",
       "      <td>9.7</td>\n",
       "      <td>2568415</td>\n",
       "    </tr>\n",
       "    <tr>\n",
       "      <th>1</th>\n",
       "      <td>2</td>\n",
       "      <td>霸王别姬</td>\n",
       "      <td>9.6</td>\n",
       "      <td>1907546</td>\n",
       "    </tr>\n",
       "    <tr>\n",
       "      <th>2</th>\n",
       "      <td>3</td>\n",
       "      <td>阿甘正传 Forrest Gump</td>\n",
       "      <td>9.5</td>\n",
       "      <td>1929466</td>\n",
       "    </tr>\n",
       "    <tr>\n",
       "      <th>3</th>\n",
       "      <td>4</td>\n",
       "      <td>泰坦尼克号 Titanic</td>\n",
       "      <td>9.4</td>\n",
       "      <td>1891082</td>\n",
       "    </tr>\n",
       "    <tr>\n",
       "      <th>4</th>\n",
       "      <td>5</td>\n",
       "      <td>这个杀手不太冷 Léon</td>\n",
       "      <td>9.4</td>\n",
       "      <td>2086370</td>\n",
       "    </tr>\n",
       "    <tr>\n",
       "      <th>...</th>\n",
       "      <td>...</td>\n",
       "      <td>...</td>\n",
       "      <td>...</td>\n",
       "      <td>...</td>\n",
       "    </tr>\n",
       "    <tr>\n",
       "      <th>245</th>\n",
       "      <td>246</td>\n",
       "      <td>千年女优 千年女優</td>\n",
       "      <td>8.8</td>\n",
       "      <td>216490</td>\n",
       "    </tr>\n",
       "    <tr>\n",
       "      <th>246</th>\n",
       "      <td>247</td>\n",
       "      <td>聚焦 Spotlight</td>\n",
       "      <td>8.8</td>\n",
       "      <td>248904</td>\n",
       "    </tr>\n",
       "    <tr>\n",
       "      <th>247</th>\n",
       "      <td>248</td>\n",
       "      <td>驴得水</td>\n",
       "      <td>8.3</td>\n",
       "      <td>830205</td>\n",
       "    </tr>\n",
       "    <tr>\n",
       "      <th>248</th>\n",
       "      <td>249</td>\n",
       "      <td>小萝莉的猴神大叔 Bajrangi Bhaijaan</td>\n",
       "      <td>8.4</td>\n",
       "      <td>443891</td>\n",
       "    </tr>\n",
       "    <tr>\n",
       "      <th>249</th>\n",
       "      <td>250</td>\n",
       "      <td>浪潮 Die Welle</td>\n",
       "      <td>8.7</td>\n",
       "      <td>244922</td>\n",
       "    </tr>\n",
       "  </tbody>\n",
       "</table>\n",
       "<p>250 rows × 4 columns</p>\n",
       "</div>"
      ],
      "text/plain": [
       "      排名                               片名   评分     评价人数\n",
       "0      1  肖申克的救赎 The Shawshank Redemption  9.7  2568415\n",
       "1      2                             霸王别姬  9.6  1907546\n",
       "2      3                阿甘正传 Forrest Gump  9.5  1929466\n",
       "3      4                    泰坦尼克号 Titanic  9.4  1891082\n",
       "4      5                     这个杀手不太冷 Léon  9.4  2086370\n",
       "..   ...                              ...  ...      ...\n",
       "245  246                        千年女优 千年女優  8.8   216490\n",
       "246  247                     聚焦 Spotlight  8.8   248904\n",
       "247  248                              驴得水  8.3   830205\n",
       "248  249       小萝莉的猴神大叔 Bajrangi Bhaijaan  8.4   443891\n",
       "249  250                     浪潮 Die Welle  8.7   244922\n",
       "\n",
       "[250 rows x 4 columns]"
      ]
     },
     "execution_count": 77,
     "metadata": {},
     "output_type": "execute_result"
    }
   ],
   "source": [
    "df_judge"
   ]
  },
  {
   "cell_type": "code",
   "execution_count": 80,
   "metadata": {},
   "outputs": [
    {
     "data": {
      "text/html": [
       "<div>\n",
       "<style scoped>\n",
       "    .dataframe tbody tr th:only-of-type {\n",
       "        vertical-align: middle;\n",
       "    }\n",
       "\n",
       "    .dataframe tbody tr th {\n",
       "        vertical-align: top;\n",
       "    }\n",
       "\n",
       "    .dataframe thead th {\n",
       "        text-align: right;\n",
       "    }\n",
       "</style>\n",
       "<table border=\"1\" class=\"dataframe\">\n",
       "  <thead>\n",
       "    <tr style=\"text-align: right;\">\n",
       "      <th></th>\n",
       "      <th>排名</th>\n",
       "      <th>片名</th>\n",
       "      <th>片长</th>\n",
       "    </tr>\n",
       "  </thead>\n",
       "  <tbody>\n",
       "    <tr>\n",
       "      <th>0</th>\n",
       "      <td>1</td>\n",
       "      <td>肖申克的救赎 The Shawshank Redemption</td>\n",
       "      <td>142</td>\n",
       "    </tr>\n",
       "    <tr>\n",
       "      <th>1</th>\n",
       "      <td>2</td>\n",
       "      <td>霸王别姬</td>\n",
       "      <td>171</td>\n",
       "    </tr>\n",
       "    <tr>\n",
       "      <th>2</th>\n",
       "      <td>2</td>\n",
       "      <td>霸王别姬</td>\n",
       "      <td>155</td>\n",
       "    </tr>\n",
       "    <tr>\n",
       "      <th>3</th>\n",
       "      <td>3</td>\n",
       "      <td>阿甘正传 Forrest Gump</td>\n",
       "      <td>142</td>\n",
       "    </tr>\n",
       "    <tr>\n",
       "      <th>4</th>\n",
       "      <td>4</td>\n",
       "      <td>泰坦尼克号 Titanic</td>\n",
       "      <td>194</td>\n",
       "    </tr>\n",
       "    <tr>\n",
       "      <th>...</th>\n",
       "      <td>...</td>\n",
       "      <td>...</td>\n",
       "      <td>...</td>\n",
       "    </tr>\n",
       "    <tr>\n",
       "      <th>327</th>\n",
       "      <td>247</td>\n",
       "      <td>聚焦 Spotlight</td>\n",
       "      <td>128</td>\n",
       "    </tr>\n",
       "    <tr>\n",
       "      <th>328</th>\n",
       "      <td>248</td>\n",
       "      <td>驴得水</td>\n",
       "      <td>111</td>\n",
       "    </tr>\n",
       "    <tr>\n",
       "      <th>329</th>\n",
       "      <td>249</td>\n",
       "      <td>小萝莉的猴神大叔 Bajrangi Bhaijaan</td>\n",
       "      <td>159</td>\n",
       "    </tr>\n",
       "    <tr>\n",
       "      <th>330</th>\n",
       "      <td>249</td>\n",
       "      <td>小萝莉的猴神大叔 Bajrangi Bhaijaan</td>\n",
       "      <td>141</td>\n",
       "    </tr>\n",
       "    <tr>\n",
       "      <th>331</th>\n",
       "      <td>250</td>\n",
       "      <td>浪潮 Die Welle</td>\n",
       "      <td>107</td>\n",
       "    </tr>\n",
       "  </tbody>\n",
       "</table>\n",
       "<p>332 rows × 3 columns</p>\n",
       "</div>"
      ],
      "text/plain": [
       "      排名                               片名   片长\n",
       "0      1  肖申克的救赎 The Shawshank Redemption  142\n",
       "1      2                             霸王别姬  171\n",
       "2      2                             霸王别姬  155\n",
       "3      3                阿甘正传 Forrest Gump  142\n",
       "4      4                    泰坦尼克号 Titanic  194\n",
       "..   ...                              ...  ...\n",
       "327  247                     聚焦 Spotlight  128\n",
       "328  248                              驴得水  111\n",
       "329  249       小萝莉的猴神大叔 Bajrangi Bhaijaan  159\n",
       "330  249       小萝莉的猴神大叔 Bajrangi Bhaijaan  141\n",
       "331  250                     浪潮 Die Welle  107\n",
       "\n",
       "[332 rows x 3 columns]"
      ]
     },
     "execution_count": 80,
     "metadata": {},
     "output_type": "execute_result"
    }
   ],
   "source": [
    "df_lens"
   ]
  }
 ],
 "metadata": {
  "interpreter": {
   "hash": "07efdcd4b820c98a756949507a4d29d7862823915ec7477944641bea022f4f62"
  },
  "kernelspec": {
   "display_name": "Python 3.9.7 ('base')",
   "language": "python",
   "name": "python3"
  },
  "language_info": {
   "codemirror_mode": {
    "name": "ipython",
    "version": 3
   },
   "file_extension": ".py",
   "mimetype": "text/x-python",
   "name": "python",
   "nbconvert_exporter": "python",
   "pygments_lexer": "ipython3",
   "version": "3.9.7"
  },
  "orig_nbformat": 4
 },
 "nbformat": 4,
 "nbformat_minor": 2
}
